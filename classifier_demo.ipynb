{
 "cells": [
  {
   "cell_type": "markdown",
   "metadata": {},
   "source": [
    "Use pandas to read a .csv file"
   ]
  },
  {
   "cell_type": "code",
   "execution_count": 1,
   "metadata": {
    "collapsed": false
   },
   "outputs": [
    {
     "name": "stdout",
     "output_type": "stream",
     "text": [
      "         classes        Cell ID  Nuclear volume (fL)  Cellular volume (fL)  \\\n",
      "0          Tom20    AICS-11_0_2             26.40600              67.08528   \n",
      "1          Tom20    AICS-11_0_3             19.34280              47.70900   \n",
      "2          Tom20    AICS-11_0_4             29.33064              73.47996   \n",
      "3          Tom20    AICS-11_0_5             21.96504              60.71868   \n",
      "4          Tom20    AICS-11_0_6             27.75060              74.02212   \n",
      "5          Tom20    AICS-11_1_2             24.55920              64.33668   \n",
      "6          Tom20    AICS-11_1_3             35.02224              98.23572   \n",
      "7          Tom20    AICS-11_1_5             31.79628             102.03730   \n",
      "8          Tom20    AICS-11_2_1             24.27624              55.38672   \n",
      "9          Tom20    AICS-11_2_2             39.85740             100.41190   \n",
      "10         Tom20    AICS-11_2_3             22.52988              55.22256   \n",
      "11         Tom20    AICS-11_2_4             22.71888              57.62880   \n",
      "12         Tom20    AICS-11_2_5             23.45868              57.73680   \n",
      "13         Tom20    AICS-11_2_6             22.50072              55.35864   \n",
      "14         Tom20    AICS-11_3_1             24.97608              60.89364   \n",
      "15         Tom20    AICS-11_3_2             20.53188              58.18824   \n",
      "16         Tom20    AICS-11_3_5             23.26752              58.33512   \n",
      "17         Tom20    AICS-11_3_6             20.20356              43.54128   \n",
      "18         Tom20    AICS-11_3_7             24.74712              59.29308   \n",
      "19         Tom20    AICS-11_4_2             24.19848              68.22252   \n",
      "20         Tom20    AICS-11_4_4             17.65260              42.21180   \n",
      "21         Tom20    AICS-11_4_6             19.38492              53.69976   \n",
      "22         Tom20    AICS-11_4_7             25.86708              75.33540   \n",
      "23         Tom20   AICS-11_4_11             16.12548              43.03044   \n",
      "24         Tom20    AICS-11_5_1             41.93532             107.23100   \n",
      "25         Tom20    AICS-11_5_2             14.16204              52.17372   \n",
      "26         Tom20    AICS-11_5_3             21.11508              54.41256   \n",
      "27         Tom20    AICS-11_5_4             20.62692              49.56660   \n",
      "28         Tom20    AICS-11_6_1             24.88212              74.48220   \n",
      "29         Tom20    AICS-11_6_2             12.04848              50.58396   \n",
      "...          ...            ...                  ...                   ...   \n",
      "6047  Sec61 beta  AICS-10_269_3             26.76888              59.28552   \n",
      "6048  Sec61 beta  AICS-10_269_6             14.99580              29.66112   \n",
      "6049  Sec61 beta  AICS-10_270_1             22.88196              48.19932   \n",
      "6050  Sec61 beta  AICS-10_270_2             23.27292              47.25108   \n",
      "6051  Sec61 beta  AICS-10_270_4             20.24028              45.77904   \n",
      "6052  Sec61 beta  AICS-10_270_6             16.87392              38.16072   \n",
      "6053  Sec61 beta  AICS-10_271_1             12.93192              26.37252   \n",
      "6054  Sec61 beta  AICS-10_271_2             15.85980              34.26084   \n",
      "6055  Sec61 beta  AICS-10_272_3             18.93456              49.66920   \n",
      "6056  Sec61 beta  AICS-10_272_4             21.59568              51.60780   \n",
      "6057  Sec61 beta  AICS-10_273_1             17.70012              37.82376   \n",
      "6058  Sec61 beta  AICS-10_274_1             23.85396              52.85628   \n",
      "6059  Sec61 beta  AICS-10_274_2             24.30108              57.62664   \n",
      "6060  Sec61 beta  AICS-10_274_4             13.54320              29.84904   \n",
      "6061  Sec61 beta  AICS-10_274_5             12.54420              23.18220   \n",
      "6062  Sec61 beta  AICS-10_275_2             20.86992              47.41848   \n",
      "6063  Sec61 beta  AICS-10_275_3             14.78304              33.35364   \n",
      "6064  Sec61 beta  AICS-10_276_1             19.60308              39.91788   \n",
      "6065  Sec61 beta  AICS-10_276_2             14.88780              33.93252   \n",
      "6066  Sec61 beta  AICS-10_277_1             20.82348              45.65808   \n",
      "6067  Sec61 beta  AICS-10_277_2             27.57132              64.75032   \n",
      "6068  Sec61 beta  AICS-10_277_4             16.45164              39.61116   \n",
      "6069  Sec61 beta  AICS-10_278_2             15.63948              40.32396   \n",
      "6070  Sec61 beta  AICS-10_278_3              8.99748              70.84260   \n",
      "6071  Sec61 beta  AICS-10_278_4             20.74248              48.49416   \n",
      "6072  Sec61 beta  AICS-10_279_3             20.37096              41.99580   \n",
      "6073  Sec61 beta  AICS-10_279_4             14.91264              37.08504   \n",
      "6074  Sec61 beta  AICS-10_280_2             17.63640              36.51048   \n",
      "6075  Sec61 beta  AICS-10_281_1              8.01792              33.80724   \n",
      "6076  Sec61 beta  AICS-10_281_2              8.50608              78.41124   \n",
      "\n",
      "      Nuclear surface area  Cellular surface area  \\\n",
      "0                 50.96514              122.38520   \n",
      "1                 43.67155              110.58200   \n",
      "2                 56.12291              147.02850   \n",
      "3                 45.91322              120.85360   \n",
      "4                 54.68156              147.85170   \n",
      "5                 48.03486              129.03660   \n",
      "6                 65.58728              185.05830   \n",
      "7                 69.55099              211.19060   \n",
      "8                 49.06436              128.42660   \n",
      "9                 69.67036              187.49360   \n",
      "10                45.21640              103.03160   \n",
      "11                47.14424              138.83360   \n",
      "12                45.37762              113.91990   \n",
      "13                45.20838              114.66410   \n",
      "14                53.77800              142.79180   \n",
      "15                41.55955              121.20850   \n",
      "16                48.04606              126.60070   \n",
      "17                43.28388              102.66200   \n",
      "18                53.63004              144.46490   \n",
      "19                52.70345              173.66910   \n",
      "20                41.12066              102.48800   \n",
      "21                40.87677              117.74390   \n",
      "22                50.82548              172.29540   \n",
      "23                38.48345               90.38909   \n",
      "24                71.77060              189.09700   \n",
      "25                33.52542               94.76684   \n",
      "26                43.76960              124.02060   \n",
      "27                42.79062              108.71130   \n",
      "28                55.44666              150.62210   \n",
      "29                29.86006              106.56550   \n",
      "...                    ...                    ...   \n",
      "6047              54.06904              126.60510   \n",
      "6048              36.21597               75.50186   \n",
      "6049              49.94130              128.41310   \n",
      "6050              50.11312              104.72150   \n",
      "6051              46.77518              116.62540   \n",
      "6052              45.16833              111.15790   \n",
      "6053              33.03634               70.60484   \n",
      "6054              39.18932               92.45135   \n",
      "6055              43.46726              123.22200   \n",
      "6056              47.02097              118.54560   \n",
      "6057              39.52316               85.94865   \n",
      "6058              52.40045              142.03850   \n",
      "6059              51.71279              130.50140   \n",
      "6060              35.38759               87.30934   \n",
      "6061              32.57871               66.65228   \n",
      "6062              44.33390              105.42820   \n",
      "6063              37.65672               95.66196   \n",
      "6064              44.96020              101.53190   \n",
      "6065              35.64233               79.81142   \n",
      "6066              46.81390              129.57770   \n",
      "6067              56.32970              164.76780   \n",
      "6068              38.54635               92.95882   \n",
      "6069              35.07377               90.88904   \n",
      "6070              30.83930              111.18510   \n",
      "6071              43.82818              101.58480   \n",
      "6072              45.29087              100.32280   \n",
      "6073              41.81358               96.78469   \n",
      "6074              45.57347              102.45820   \n",
      "6075              23.13129               78.44810   \n",
      "6076              29.80879              129.57170   \n",
      "\n",
      "      Radial proximity (unitless)  Apical proximity (unitless)  \n",
      "0                        0.845234                     0.440432  \n",
      "1                        0.875323                     0.668039  \n",
      "2                        0.844938                     0.296743  \n",
      "3                        0.993855                     0.125660  \n",
      "4                        0.818258                    -0.014547  \n",
      "5                        0.791004                     0.644618  \n",
      "6                        0.935237                    -0.184156  \n",
      "7                        0.853871                    -0.376066  \n",
      "8                        0.765108                     0.284556  \n",
      "9                        0.938530                     0.316849  \n",
      "10                       0.970407                     0.925951  \n",
      "11                       0.971606                     0.395887  \n",
      "12                       0.966560                     0.426222  \n",
      "13                       0.928012                     0.359722  \n",
      "14                       0.877845                     0.018171  \n",
      "15                       0.925400                     0.136147  \n",
      "16                       0.964414                     0.757937  \n",
      "17                       0.980807                     0.316499  \n",
      "18                       0.919027                     0.059440  \n",
      "19                       0.977536                     0.275881  \n",
      "20                       0.842993                    -0.139966  \n",
      "21                       0.910365                     0.070376  \n",
      "22                       0.881500                     0.159137  \n",
      "23                       0.906170                     0.584395  \n",
      "24                       0.846017                     0.497440  \n",
      "25                       0.940113                     0.034281  \n",
      "26                       0.907279                     0.307294  \n",
      "27                       0.903659                     0.198229  \n",
      "28                       0.943154                     0.084464  \n",
      "29                       0.847964                     0.249835  \n",
      "...                           ...                          ...  \n",
      "6047                     0.347799                     0.351601  \n",
      "6048                     0.522334                    -0.003310  \n",
      "6049                     0.390046                     0.405693  \n",
      "6050                     0.454179                     0.159945  \n",
      "6051                     0.219586                     0.087433  \n",
      "6052                     0.326587                     0.064863  \n",
      "6053                     0.530143                     0.242029  \n",
      "6054                     0.550357                     0.109939  \n",
      "6055                     0.380115                    -0.302818  \n",
      "6056                     0.216012                     0.197660  \n",
      "6057                     0.243752                     0.334637  \n",
      "6058                     0.280223                     0.068305  \n",
      "6059                     0.110638                     0.036500  \n",
      "6060                     0.667256                     0.242657  \n",
      "6061                     0.225089                    -0.038708  \n",
      "6062                     0.315259                     0.028749  \n",
      "6063                     0.514848                     0.056652  \n",
      "6064                     0.408621                     0.415270  \n",
      "6065                     0.564072                     0.084804  \n",
      "6066                     0.484965                    -0.013718  \n",
      "6067                     0.349334                    -0.145420  \n",
      "6068                     0.347329                     0.060709  \n",
      "6069                     0.699001                     0.129726  \n",
      "6070                     0.984805                    -0.101509  \n",
      "6071                     0.327490                    -0.225624  \n",
      "6072                     0.482932                     0.050069  \n",
      "6073                     0.568536                     0.006790  \n",
      "6074                     0.459947                    -0.287555  \n",
      "6075                     0.653712                    -0.086012  \n",
      "6076                     0.996351                    -0.084541  \n",
      "\n",
      "[6077 rows x 8 columns]\n"
     ]
    }
   ],
   "source": [
    "import pandas as pd\n",
    "import numpy as np\n",
    "import scipy.spatial.distance as dist\n",
    "import scipy.stats.mstats as mstats\n",
    "\n",
    "filepath = '/root/projects/monty_python/AICS_Cell-feature-analysis_v1.5.csv'\n",
    "\n",
    "df = pd.read_csv(filepath)\n",
    "\n",
    "print(df)"
   ]
  },
  {
   "cell_type": "markdown",
   "metadata": {},
   "source": [
    "Print off the column names, and store two variables, one that contains the class information, and one that contains the features"
   ]
  },
  {
   "cell_type": "code",
   "execution_count": 2,
   "metadata": {
    "collapsed": false
   },
   "outputs": [
    {
     "name": "stdout",
     "output_type": "stream",
     "text": [
      "['classes', 'Cell ID', 'Nuclear volume (fL)', 'Cellular volume (fL)', 'Nuclear surface area', 'Cellular surface area', 'Radial proximity (unitless)', 'Apical proximity (unitless)']\n"
     ]
    }
   ],
   "source": [
    "column_names = list(df.columns.values)\n",
    "\n",
    "print(column_names)\n",
    "\n",
    "features = df[column_names[2:]]\n",
    "classes = df['classes']"
   ]
  },
  {
   "cell_type": "markdown",
   "metadata": {},
   "source": [
    "Index the class names, and convert the feature array to a numpy array."
   ]
  },
  {
   "cell_type": "code",
   "execution_count": 3,
   "metadata": {
    "collapsed": false
   },
   "outputs": [],
   "source": [
    "uclass, class_inds = np.unique(classes, return_inverse=True)\n",
    "nclasses = len(uclass)\n",
    "ndat = len(class_inds)\n",
    "features = features.as_matrix(columns=features.columns[0:])\n",
    "\n",
    "features = mstats.zscore(features, 0)"
   ]
  },
  {
   "cell_type": "markdown",
   "metadata": {},
   "source": [
    "Compute a distance matrix from all pairs of features"
   ]
  },
  {
   "cell_type": "code",
   "execution_count": 4,
   "metadata": {
    "collapsed": false
   },
   "outputs": [],
   "source": [
    "dmat = dist.squareform(dist.pdist(features))\n",
    "np.fill_diagonal(dmat, float('Inf'))\n",
    "\n",
    "min_inds = np.argmin(dmat,1)\n",
    "pred_inds = class_inds[min_inds]"
   ]
  },
  {
   "cell_type": "code",
   "execution_count": 5,
   "metadata": {
    "collapsed": false
   },
   "outputs": [
    {
     "name": "stdout",
     "output_type": "stream",
     "text": [
      "[[ 529.  101.   17.    3.    3.   13.   94.  176.    7.  100.]\n",
      " [  87.  224.    8.    0.    1.   22.   10.   41.    1.  148.]\n",
      " [  27.    3.   75.    4.    0.    5.   28.   12.   56.   19.]\n",
      " [   2.    0.    1.  944.   39.    0.    1.    0.    0.    1.]\n",
      " [   2.    1.    0.   42.  714.    3.   18.    4.    0.    1.]\n",
      " [  15.   24.    8.    2.    1.   40.   13.   16.    6.   32.]\n",
      " [ 106.   14.   29.    1.   12.   16.  606.   29.    0.   22.]\n",
      " [ 163.   47.   11.    0.    4.   17.   27.  428.    5.   69.]\n",
      " [   3.    0.   49.    1.    0.    3.    0.    6.  166.    6.]\n",
      " [  90.  137.   18.    1.    2.   29.   21.   65.    4.  126.]]\n"
     ]
    }
   ],
   "source": [
    "confmat = np.zeros((nclasses,nclasses))\n",
    "\n",
    "for i in range(0, ndat):\n",
    "    confmat[class_inds[i]-1, pred_inds[i]-1] +=1\n",
    "    \n",
    "print(confmat)"
   ]
  },
  {
   "cell_type": "code",
   "execution_count": 6,
   "metadata": {
    "collapsed": false
   },
   "outputs": [
    {
     "data": {
      "text/plain": [
       "array(['Alpha actinin', 'Alpha tubulin', 'Beta actin', 'Desmoplakin',\n",
       "       'Fibrillarin', 'Lamin B1', 'Myosin IIB', 'Sec61 beta', 'Tom20',\n",
       "       'ZO1'], dtype=object)"
      ]
     },
     "execution_count": 6,
     "metadata": {},
     "output_type": "execute_result"
    }
   ],
   "source": [
    "uclass"
   ]
  },
  {
   "cell_type": "code",
   "execution_count": null,
   "metadata": {
    "collapsed": true
   },
   "outputs": [],
   "source": []
  }
 ],
 "metadata": {
  "kernelspec": {
   "display_name": "Python 3",
   "language": "python",
   "name": "python3"
  },
  "language_info": {
   "codemirror_mode": {
    "name": "ipython",
    "version": 3
   },
   "file_extension": ".py",
   "mimetype": "text/x-python",
   "name": "python",
   "nbconvert_exporter": "python",
   "pygments_lexer": "ipython3",
   "version": "3.6.0"
  }
 },
 "nbformat": 4,
 "nbformat_minor": 2
}
